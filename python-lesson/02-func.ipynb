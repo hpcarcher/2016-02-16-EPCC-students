{
 "metadata": {
  "name": "",
  "signature": "sha256:3cd3a7ec42883815a3d57dd5a2a49051fcfaa32af63b67ccf0e23334a17d8c32"
 },
 "nbformat": 3,
 "nbformat_minor": 0,
 "worksheets": [
  {
   "cells": [
    {
     "cell_type": "heading",
     "level": 2,
     "metadata": {
      "cell_tags": []
     },
     "source": [
      "Creating Functions"
     ]
    },
    {
     "cell_type": "markdown",
     "metadata": {
      "cell_tags": []
     },
     "source": [
      "If we only had one data set to analyze,\n",
      "it would probably be faster to load the file into a spreadsheet\n",
      "and use that to plot some simple statistics.\n",
      "But we have twelve files to check,\n",
      "and may have more in future.\n",
      "In this lesson,\n",
      "we'll learn how to write a function\n",
      "so that we can repeat several operations with a single command."
     ]
    },
    {
     "cell_type": "markdown",
     "metadata": {
      "cell_tags": [
       "objectives"
      ]
     },
     "source": [
      "#### Objectives\n",
      "\n",
      "*   Define a function that takes parameters.\n",
      "*   Return a value from a function.\n",
      "*   Test and debug a function.\n",
      "*   Explain what a call stack is, and trace changes to the call stack as functions are called.\n",
      "*   Set default values for function parameters.\n",
      "*   Explain why we should divide programs into small, single-purpose functions."
     ]
    },
    {
     "cell_type": "heading",
     "level": 3,
     "metadata": {
      "cell_tags": []
     },
     "source": [
      "Defining a Function"
     ]
    },
    {
     "cell_type": "markdown",
     "metadata": {
      "cell_tags": []
     },
     "source": [
      "Let's start by defining a function `fahr_to_kelvin` that converts temperatures from Fahrenheit to Kelvin:"
     ]
    },
    {
     "cell_type": "code",
     "collapsed": false,
     "input": [
      "def fahr_to_kelvin(temp):\n",
      "    return ((temp - 32) * (5/9)) + 273.15"
     ],
     "language": "python",
     "metadata": {
      "cell_tags": []
     },
     "outputs": [],
     "prompt_number": 1
    },
    {
     "cell_type": "markdown",
     "metadata": {
      "cell_tags": []
     },
     "source": [
      "The definition opens with the word `def`,\n",
      "which is followed by the name of the function\n",
      "and a parenthesized list of parameter names.\n",
      "The [body](../gloss.html#function-body) of the function&mdash;the\n",
      "statements that are executed when it runs&mdash;is indented below the definition line,\n",
      "typically by four spaces.\n",
      "\n",
      "When we call the function,\n",
      "the values we pass to it are assigned to those variables\n",
      "so that we can use them inside the function.\n",
      "Inside the function,\n",
      "we use a [return statement](../gloss.html#return-statement) to send a result back to whoever asked for it.\n",
      "\n",
      "Let's try running our function.\n",
      "Calling our own function is no different from calling any other function:"
     ]
    },
    {
     "cell_type": "code",
     "collapsed": false,
     "input": [
      "print 'freezing point of water:', fahr_to_kelvin(32)\n",
      "print 'boiling point of water:', fahr_to_kelvin(212)"
     ],
     "language": "python",
     "metadata": {
      "cell_tags": []
     },
     "outputs": [
      {
       "output_type": "stream",
       "stream": "stdout",
       "text": [
        "freezing point of water: 273.15\n",
        "boiling point of water: 273.15\n"
       ]
      }
     ],
     "prompt_number": 3
    },
    {
     "cell_type": "markdown",
     "metadata": {},
     "source": [
      "We've successfully called the function that we defined,\n",
      "and we have access to the value that we returned.\n",
      "Unfortunately, the value returned doesn't look right.\n",
      "What went wrong?"
     ]
    },
    {
     "cell_type": "heading",
     "level": 3,
     "metadata": {},
     "source": [
      "Debugging a Function"
     ]
    },
    {
     "cell_type": "markdown",
     "metadata": {},
     "source": [
      "*Debugging* is when we fix a piece of code\n",
      "that we know is working incorrectly.\n",
      "In this case, we know that `fahr_to_kelvin`\n",
      "is giving us the wrong answer,\n",
      "so let's find out why.\n",
      "\n",
      "For big pieces of code,\n",
      "there are tools called *debuggers* that aid in this process.\n",
      "\n",
      "We just have a short function,\n",
      "so we'll debug by choosing some parameter value,\n",
      "breaking our function into small parts,\n",
      "and printing out the value of each part."
     ]
    },
    {
     "cell_type": "code",
     "collapsed": false,
     "input": [
      "# We'll use temp = 212, the boiling point of water, which was incorrect\n",
      "print \"212 - 32:\", 212 - 32"
     ],
     "language": "python",
     "metadata": {},
     "outputs": [
      {
       "output_type": "stream",
       "stream": "stdout",
       "text": [
        "212 - 32: 180\n"
       ]
      }
     ],
     "prompt_number": 3
    },
    {
     "cell_type": "code",
     "collapsed": false,
     "input": [
      "print \"(212 - 32) * (5/9):\", (212 - 32) * (5/9)"
     ],
     "language": "python",
     "metadata": {},
     "outputs": [
      {
       "output_type": "stream",
       "stream": "stdout",
       "text": [
        "(212 - 32) * (5/9): 0\n"
       ]
      }
     ],
     "prompt_number": 4
    },
    {
     "cell_type": "markdown",
     "metadata": {},
     "source": [
      "Aha! The problem comes when we multiply by `5/9`.\n",
      "This is because `5/9` is actually 0."
     ]
    },
    {
     "cell_type": "code",
     "collapsed": false,
     "input": [
      "5/9"
     ],
     "language": "python",
     "metadata": {},
     "outputs": [
      {
       "metadata": {},
       "output_type": "pyout",
       "prompt_number": 5,
       "text": [
        "0"
       ]
      }
     ],
     "prompt_number": 5
    },
    {
     "cell_type": "markdown",
     "metadata": {
      "cell_tags": []
     },
     "source": [
      "Computers store numbers in one of two ways:\n",
      "as [integers](../gloss.html#integer)\n",
      "or as [floating-point numbers](../gloss.html#float-point-number) (or floats).\n",
      "The first are the numbers we usually count with;\n",
      "the second have fractional parts.\n",
      "Addition, subtraction and multiplication work on both as we'd expect,\n",
      "but division works differently.\n",
      "If we divide one integer by another,\n",
      "we get the quotient without the remainder:"
     ]
    },
    {
     "cell_type": "code",
     "collapsed": false,
     "input": [
      "print '10/3 is:', 10/3"
     ],
     "language": "python",
     "metadata": {
      "cell_tags": []
     },
     "outputs": [
      {
       "output_type": "stream",
       "stream": "stdout",
       "text": [
        "10/3 is: 3\n"
       ]
      }
     ],
     "prompt_number": 6
    },
    {
     "cell_type": "markdown",
     "metadata": {
      "cell_tags": []
     },
     "source": [
      "If either part of the division is a float,\n",
      "on the other hand,\n",
      "the computer creates a floating-point answer:"
     ]
    },
    {
     "cell_type": "code",
     "collapsed": false,
     "input": [
      "print '10.0/3 is:', 10.0/3"
     ],
     "language": "python",
     "metadata": {
      "cell_tags": []
     },
     "outputs": [
      {
       "output_type": "stream",
       "stream": "stdout",
       "text": [
        "10.0/3 is: 3.33333333333\n"
       ]
      }
     ],
     "prompt_number": 7
    },
    {
     "cell_type": "markdown",
     "metadata": {
      "cell_tags": []
     },
     "source": [
      "The computer does this for historical reasons:\n",
      "integer operations were much faster on early machines,\n",
      "and this behavior is actually useful in a lot of situations.\n",
      "It's still confusing,\n",
      "though,\n",
      "so Python 3 produces a floating-point answer when dividing integers if it needs to.\n",
      "We're still using Python 2.7 in this class,\n",
      "though,\n",
      "so if we want `5/9` to give us the right answer,\n",
      "we have to write it as `5.0/9`, `5/9.0`, or some other variation.\n",
      "\n",
      "Another way to create a floating-point answer is to explicitly tell the computer that you desire one. This is achieved by casting one of the numbers:"
     ]
    },
    {
     "cell_type": "code",
     "collapsed": false,
     "input": [
      "print 'float(10)/3 is:', float(10)/3"
     ],
     "language": "python",
     "metadata": {},
     "outputs": [
      {
       "output_type": "stream",
       "stream": "stdout",
       "text": [
        "float(10)/3 is: 3.33333333333\n"
       ]
      }
     ],
     "prompt_number": 8
    },
    {
     "cell_type": "markdown",
     "metadata": {},
     "source": [
      "The advantage to this method is it can be used with existing variables. Let's take a look:"
     ]
    },
    {
     "cell_type": "code",
     "collapsed": false,
     "input": [
      "a = 10\n",
      "b = 3\n",
      "print 'a/b is:', a/b\n",
      "print 'float(a)/b is:', float(a)/b"
     ],
     "language": "python",
     "metadata": {},
     "outputs": [
      {
       "output_type": "stream",
       "stream": "stdout",
       "text": [
        "a/b is: 3\n",
        "float(a)/b is: 3.33333333333\n"
       ]
      }
     ],
     "prompt_number": 9
    },
    {
     "cell_type": "markdown",
     "metadata": {},
     "source": [
      "See that was much easier than redefining `a` or `b`!\n",
      "\n",
      "Let's fix our `fahr_to_kelvin` function with this new knowledge."
     ]
    },
    {
     "cell_type": "code",
     "collapsed": false,
     "input": [
      "def fahr_to_kelvin(temp):\n",
      "    return ((temp - 32) * (5.0/9.0)) + 273.15\n",
      "\n",
      "print 'freezing point of water:', fahr_to_kelvin(32)\n",
      "print 'boiling point of water:', fahr_to_kelvin(212)"
     ],
     "language": "python",
     "metadata": {},
     "outputs": [
      {
       "output_type": "stream",
       "stream": "stdout",
       "text": [
        "freezing point of water: 273.15\n",
        "boiling point of water: 373.15\n"
       ]
      }
     ],
     "prompt_number": 10
    },
    {
     "cell_type": "markdown",
     "metadata": {
      "cell_tags": []
     },
     "source": [
      "It works!"
     ]
    },
    {
     "cell_type": "heading",
     "level": 3,
     "metadata": {},
     "source": [
      "Composing Functions"
     ]
    },
    {
     "cell_type": "markdown",
     "metadata": {},
     "source": [
      "Now that we've seen how to turn Fahrenheit into Kelvin,\n",
      "it's easy to turn Kelvin into Celsius:"
     ]
    },
    {
     "cell_type": "code",
     "collapsed": false,
     "input": [
      "def kelvin_to_celsius(temp):\n",
      "    return temp - 273.15\n",
      "\n",
      "print 'absolute zero in Celsius:', kelvin_to_celsius(0.0)"
     ],
     "language": "python",
     "metadata": {
      "cell_tags": []
     },
     "outputs": [
      {
       "output_type": "stream",
       "stream": "stdout",
       "text": [
        "absolute zero in Celsius: -273.15\n"
       ]
      }
     ],
     "prompt_number": 11
    },
    {
     "cell_type": "markdown",
     "metadata": {
      "cell_tags": []
     },
     "source": [
      "What about converting Fahrenheit to Celsius?\n",
      "We could write out the formula,\n",
      "but we don't need to.\n",
      "Instead,\n",
      "we can [compose](../gloss.html#function-composition) the two functions we have already created:"
     ]
    },
    {
     "cell_type": "code",
     "collapsed": false,
     "input": [
      "def fahr_to_celsius(temp):\n",
      "    temp_k = fahr_to_kelvin(temp)\n",
      "    result = kelvin_to_celsius(temp_k)\n",
      "    return result\n",
      "\n",
      "print 'freezing point of water in Celsius:', fahr_to_celsius(32.0)"
     ],
     "language": "python",
     "metadata": {
      "cell_tags": []
     },
     "outputs": [
      {
       "output_type": "stream",
       "stream": "stdout",
       "text": [
        "freezing point of water in Celsius: 0.0\n"
       ]
      }
     ],
     "prompt_number": 12
    },
    {
     "cell_type": "markdown",
     "metadata": {
      "cell_tags": []
     },
     "source": [
      "This is our first taste of how larger programs are built:\n",
      "we define basic operations,\n",
      "then combine them in ever-large chunks to get the effect we want.\n",
      "Real-life functions will usually be larger than the ones shown here&mdash;typically half a dozen to a few dozen lines&mdash;but\n",
      "they shouldn't ever be much longer than that,\n",
      "or the next person who reads it won't be able to understand what's going on."
     ]
    },
    {
     "cell_type": "markdown",
     "metadata": {
      "cell_tags": [
       "challenges"
      ]
     },
     "source": [
      "#### Challenges\n",
      "\n",
      "1.  \"Adding\" two strings produces their concatenation:\n",
      "    `'a' + 'b'` is `'ab'`.\n",
      "    Write a function called `fence` that takes two parameters called `original` and `wrapper`\n",
      "    and returns a new string that has the wrapper character at the beginning and end of the original:\n",
      "\n",
      "    ~~~python\n",
      "    print fence('name', '*')\n",
      "    *name*\n",
      "    ~~~\n",
      "\n",
      "1.  If the variable `s` refers to a string,\n",
      "    then `s[0]` is the string's first character\n",
      "    and `s[-1]` is its last.\n",
      "    Write a function called `outer`\n",
      "    that returns a string made up of just the first and last characters of its input:\n",
      "\n",
      "    ~~~python\n",
      "    print outer('helium')\n",
      "    hm\n",
      "    ~~~"
     ]
    },
    {
     "cell_type": "heading",
     "level": 3,
     "metadata": {
      "cell_tags": []
     },
     "source": [
      "The Call Stack"
     ]
    },
    {
     "cell_type": "markdown",
     "metadata": {
      "cell_tags": []
     },
     "source": [
      "Let's take a closer look at what happens when we call `fahr_to_celsius(32.0)`.\n",
      "To make things clearer,\n",
      "we'll start by putting the initial value 32.0 in a variable\n",
      "and store the final result in one as well:"
     ]
    },
    {
     "cell_type": "code",
     "collapsed": false,
     "input": [
      "original = 32.0\n",
      "final = fahr_to_celsius(original)"
     ],
     "language": "python",
     "metadata": {
      "cell_tags": []
     },
     "outputs": [],
     "prompt_number": 13
    },
    {
     "cell_type": "markdown",
     "metadata": {
      "cell_tags": []
     },
     "source": [
      "The diagram below shows what memory looks like after the first line has been executed:"
     ]
    },
    {
     "cell_type": "markdown",
     "metadata": {
      "cell_tags": []
     },
     "source": [
      "<img src=\"files/img/python-call-stack-01.svg\" alt=\"Call Stack (Initial State)\" />"
     ]
    },
    {
     "cell_type": "markdown",
     "metadata": {
      "cell_tags": []
     },
     "source": [
      "When we call `fahr_to_celsius`,\n",
      "Python *doesn't* create the variable `temp` right away.\n",
      "Instead,\n",
      "it creates something called a [stack frame](../gloss.html#stack-frame)\n",
      "to keep track of the variables defined by `fahr_to_kelvin`.\n",
      "Initially,\n",
      "this stack frame only holds the value of `temp`:"
     ]
    },
    {
     "cell_type": "markdown",
     "metadata": {
      "cell_tags": []
     },
     "source": [
      "<img src=\"files/img/python-call-stack-02.svg\" alt=\"Call Stack Immediately After First Function Call\" />"
     ]
    },
    {
     "cell_type": "markdown",
     "metadata": {
      "cell_tags": []
     },
     "source": [
      "When we call `fahr_to_kelvin` inside `fahr_to_celsius`,\n",
      "Python creates another stack frame to hold `fahr_to_kelvin`'s variables:"
     ]
    },
    {
     "cell_type": "markdown",
     "metadata": {
      "cell_tags": []
     },
     "source": [
      "<img src=\"files/img/python-call-stack-03.svg\" alt=\"Call Stack During First Nested Function Call\" />"
     ]
    },
    {
     "cell_type": "markdown",
     "metadata": {
      "cell_tags": []
     },
     "source": [
      "It does this because there are now two variables in play called `temp`:\n",
      "the parameter to `fahr_to_celsius`,\n",
      "and the parameter to `fahr_to_kelvin`.\n",
      "Having two variables with the same name in the same part of the program would be ambiguous,\n",
      "so Python (and every other modern programming language) creates a new stack frame for each function call\n",
      "to keep that function's variables separate from those defined by other functions.\n",
      "\n",
      "When the call to `fahr_to_kelvin` returns a value,\n",
      "Python throws away `fahr_to_kelvin`'s stack frame\n",
      "and creates a new variable in the stack frame for `fahr_to_celsius` to hold the temperature in Kelvin:"
     ]
    },
    {
     "cell_type": "markdown",
     "metadata": {
      "cell_tags": []
     },
     "source": [
      "<img src=\"files/img/python-call-stack-04.svg\" alt=\"Call Stack After Return From First Nested Function Call\" />"
     ]
    },
    {
     "cell_type": "markdown",
     "metadata": {
      "cell_tags": []
     },
     "source": [
      "It then calls `kelvin_to_celsius`,\n",
      "which means it creates a stack frame to hold that function's variables:"
     ]
    },
    {
     "cell_type": "markdown",
     "metadata": {
      "cell_tags": []
     },
     "source": [
      "<img src=\"files/img/python-call-stack-05.svg\" alt=\"Call Stack During Call to Second Nested Function\" />"
     ]
    },
    {
     "cell_type": "markdown",
     "metadata": {
      "cell_tags": []
     },
     "source": [
      "Once again,\n",
      "Python throws away that stack frame when `kelvin_to_celsius` is done\n",
      "and creates the variable `result` in the stack frame for `fahr_to_celsius`:"
     ]
    },
    {
     "cell_type": "markdown",
     "metadata": {
      "cell_tags": []
     },
     "source": [
      "<img src=\"files/img/python-call-stack-06.svg\" alt=\"Call Stack After Second Nested Function Returns\" />"
     ]
    },
    {
     "cell_type": "markdown",
     "metadata": {
      "cell_tags": []
     },
     "source": [
      "Finally,\n",
      "when `fahr_to_celsius` is done,\n",
      "Python throws away *its* stack frame\n",
      "and puts its result in a new variable called `final`\n",
      "that lives in the stack frame we started with:"
     ]
    },
    {
     "cell_type": "markdown",
     "metadata": {
      "cell_tags": []
     },
     "source": [
      "<img src=\"files/img/python-call-stack-07.svg\" alt=\"Call Stack After All Functions Have Finished\" />"
     ]
    },
    {
     "cell_type": "markdown",
     "metadata": {
      "cell_tags": []
     },
     "source": [
      "This final stack frame is always there;\n",
      "it holds the variables we defined outside the functions in our code.\n",
      "What it *doesn't* hold is the variables that were in the various stack frames.\n",
      "If we try to get the value of `temp` after our functions have finished running,\n",
      "Python tells us that there's no such thing:"
     ]
    },
    {
     "cell_type": "code",
     "collapsed": false,
     "input": [
      "print 'final value of temp after all function calls:', temp"
     ],
     "language": "python",
     "metadata": {
      "cell_tags": []
     },
     "outputs": [
      {
       "output_type": "stream",
       "stream": "stdout",
       "text": [
        "final value of temp after all function calls:"
       ]
      },
      {
       "ename": "NameError",
       "evalue": "name 'temp' is not defined",
       "output_type": "pyerr",
       "traceback": [
        "\u001b[0;31m---------------------------------------------------------------------------\u001b[0m\n\u001b[0;31mNameError\u001b[0m                                 Traceback (most recent call last)",
        "\u001b[0;32m<ipython-input-14-ffd9b4dbd5f1>\u001b[0m in \u001b[0;36m<module>\u001b[0;34m()\u001b[0m\n\u001b[0;32m----> 1\u001b[0;31m \u001b[0;32mprint\u001b[0m \u001b[0;34m'final value of temp after all function calls:'\u001b[0m\u001b[0;34m,\u001b[0m \u001b[0mtemp\u001b[0m\u001b[0;34m\u001b[0m\u001b[0m\n\u001b[0m",
        "\u001b[0;31mNameError\u001b[0m: name 'temp' is not defined"
       ]
      }
     ],
     "prompt_number": 14
    },
    {
     "cell_type": "markdown",
     "metadata": {
      "cell_tags": []
     },
     "source": [
      "Why go to all this trouble?\n",
      "Well,\n",
      "here's a function called `span` that calculates the difference between\n",
      "the minimum and maximum values in an array:"
     ]
    },
    {
     "cell_type": "code",
     "collapsed": false,
     "input": [
      "import numpy\n",
      "\n",
      "def span(a):\n",
      "    diff = a.max() - a.min()\n",
      "    return diff\n",
      "\n",
      "data = numpy.loadtxt(fname='data/inflammation-01.csv', delimiter=',')\n",
      "print 'span of data', span(data)"
     ],
     "language": "python",
     "metadata": {
      "cell_tags": []
     },
     "outputs": []
    },
    {
     "cell_type": "markdown",
     "metadata": {
      "cell_tags": []
     },
     "source": [
      "Notice that `span` assigns a value to a variable called `diff`.\n",
      "We might very well use a variable with the same name to hold data:"
     ]
    },
    {
     "cell_type": "code",
     "collapsed": false,
     "input": [
      "diff = numpy.loadtxt(fname='data/inflammation-01.csv', delimiter=',')\n",
      "print 'span of data:', span(diff)"
     ],
     "language": "python",
     "metadata": {
      "cell_tags": []
     },
     "outputs": []
    },
    {
     "cell_type": "markdown",
     "metadata": {
      "cell_tags": []
     },
     "source": [
      "We don't expect `diff` to have the value 20.0 after this function call,\n",
      "so the name `diff` cannot refer to the same thing inside `span` as it does in the main body of our program.\n",
      "And yes,\n",
      "we could probably choose a different name than `diff` in our main program in this case,\n",
      "but we don't want to have to read every line of NumPy to see what variable names its functions use\n",
      "before calling any of those functions,\n",
      "just in case they change the values of our variables."
     ]
    },
    {
     "cell_type": "markdown",
     "metadata": {
      "cell_tags": []
     },
     "source": [
      "The big idea here is [encapsulation](../gloss.html#encapsulation),\n",
      "and it's the key to writing correct, comprehensible programs.\n",
      "A function's job is to turn several operations into one\n",
      "so that we can think about a single function call\n",
      "instead of a dozen or a hundred statements\n",
      "each time we want to do something.\n",
      "That only works if functions don't interfere with each other;\n",
      "if they do,\n",
      "we have to pay attention to the details once again,\n",
      "which quickly overloads our short-term memory."
     ]
    },
    {
     "cell_type": "markdown",
     "metadata": {
      "cell_tags": [
       "challenges"
      ]
     },
     "source": [
      "#### Challenges\n",
      "\n",
      "1.  We previously wrote functions called `fence` and `outer`.\n",
      "    Draw a diagram showing how the call stack changes when we run the following:\n",
      "    \n",
      "    ~~~python\n",
      "    print outer(fence('carbon', '+'))\n",
      "    ~~~"
     ]
    },
    {
     "cell_type": "heading",
     "level": 3,
     "metadata": {
      "cell_tags": []
     },
     "source": [
      "Testing and Documenting"
     ]
    },
    {
     "cell_type": "markdown",
     "metadata": {
      "cell_tags": []
     },
     "source": [
      "Once we start putting things in functions so that we can re-use them,\n",
      "we need to start testing that those functions are working correctly.\n",
      "To see how to do this,\n",
      "let's write a function to center a dataset around a particular value:"
     ]
    },
    {
     "cell_type": "code",
     "collapsed": false,
     "input": [
      "def center(data, desired):\n",
      "    return (data - data.mean()) + desired"
     ],
     "language": "python",
     "metadata": {
      "cell_tags": []
     },
     "outputs": []
    },
    {
     "cell_type": "markdown",
     "metadata": {
      "cell_tags": []
     },
     "source": [
      "We could test this on our actual data,\n",
      "but since we don't know what the values ought to be,\n",
      "it will be hard to tell if the result was correct.\n",
      "Instead,\n",
      "let's use NumPy to create a matrix of 0's\n",
      "and then center that around 3:"
     ]
    },
    {
     "cell_type": "code",
     "collapsed": false,
     "input": [
      "z = numpy.zeros((2,2))\n",
      "print center(z, 3)"
     ],
     "language": "python",
     "metadata": {
      "cell_tags": []
     },
     "outputs": []
    },
    {
     "cell_type": "markdown",
     "metadata": {
      "cell_tags": []
     },
     "source": [
      "That looks right,\n",
      "so let's try `center` on our real data:"
     ]
    },
    {
     "cell_type": "code",
     "collapsed": false,
     "input": [
      "data = numpy.loadtxt(fname='data/inflammation-01.csv', delimiter=',')\n",
      "print center(data, 0)"
     ],
     "language": "python",
     "metadata": {
      "cell_tags": []
     },
     "outputs": []
    },
    {
     "cell_type": "markdown",
     "metadata": {
      "cell_tags": []
     },
     "source": [
      "It's hard to tell from the default output whether the result is correct,\n",
      "but there are a few simple tests that will reassure us:"
     ]
    },
    {
     "cell_type": "code",
     "collapsed": false,
     "input": [
      "print 'original min, mean, and max are:', data.min(), data.mean(), data.max()\n",
      "centered = center(data, 0)\n",
      "print 'min, mean, and and max of centered data are:', centered.min(), centered.mean(), centered.max()"
     ],
     "language": "python",
     "metadata": {
      "cell_tags": []
     },
     "outputs": []
    },
    {
     "cell_type": "markdown",
     "metadata": {
      "cell_tags": []
     },
     "source": [
      "That seems almost right:\n",
      "the original mean was about 6.1,\n",
      "so the lower bound from zero is now about -6.1.\n",
      "The mean of the centered data isn't quite zero&mdash;we'll explore why not in the challenges&mdash;but it's pretty close.\n",
      "We can even go further and check that the standard deviation hasn't changed:"
     ]
    },
    {
     "cell_type": "code",
     "collapsed": false,
     "input": [
      "print 'std dev before and after:', data.std(), centered.std()"
     ],
     "language": "python",
     "metadata": {
      "cell_tags": []
     },
     "outputs": []
    },
    {
     "cell_type": "markdown",
     "metadata": {
      "cell_tags": []
     },
     "source": [
      "Those values look the same,\n",
      "but we probably wouldn't notice if they were different in the sixth decimal place.\n",
      "Let's do this instead:"
     ]
    },
    {
     "cell_type": "code",
     "collapsed": false,
     "input": [
      "print 'difference in standard deviations before and after:', data.std() - centered.std()"
     ],
     "language": "python",
     "metadata": {
      "cell_tags": []
     },
     "outputs": []
    },
    {
     "cell_type": "markdown",
     "metadata": {
      "cell_tags": []
     },
     "source": [
      "Again,\n",
      "the difference is very small.\n",
      "It's still possible that our function is wrong,\n",
      "but it seems unlikely enough that we should probably get back to doing our analysis.\n",
      "We have one more task first, though:\n",
      "we should write some [documentation](../gloss.html#documentation) for our function\n",
      "to remind ourselves later what it's for and how to use it.\n",
      "\n",
      "The usual way to put documentation in software is to add [comments](../gloss.html#comment) like this:"
     ]
    },
    {
     "cell_type": "code",
     "collapsed": false,
     "input": [
      "# center(data, desired): return a new array containing the original data centered around the desired value.\n",
      "def center(data, desired):\n",
      "    return (data - data.mean()) + desired"
     ],
     "language": "python",
     "metadata": {
      "cell_tags": []
     },
     "outputs": []
    },
    {
     "cell_type": "markdown",
     "metadata": {
      "cell_tags": []
     },
     "source": [
      "There's a better way, though.\n",
      "If the first thing in a function is a string that isn't assigned to a variable,\n",
      "that string is attached to the function as its documentation:"
     ]
    },
    {
     "cell_type": "code",
     "collapsed": false,
     "input": [
      "def center(data, desired):\n",
      "    '''Return a new array containing the original data centered around the desired value.'''\n",
      "    return (data - data.mean()) + desired"
     ],
     "language": "python",
     "metadata": {
      "cell_tags": []
     },
     "outputs": []
    },
    {
     "cell_type": "markdown",
     "metadata": {
      "cell_tags": []
     },
     "source": [
      "This is better because we can now ask Python's built-in help system to show us the documentation for the function:"
     ]
    },
    {
     "cell_type": "code",
     "collapsed": false,
     "input": [
      "help(center)"
     ],
     "language": "python",
     "metadata": {
      "cell_tags": []
     },
     "outputs": []
    },
    {
     "cell_type": "markdown",
     "metadata": {
      "cell_tags": []
     },
     "source": [
      "A string like this is called a [docstring](../gloss.html#docstring).\n",
      "We don't need to use triple quotes when we write one,\n",
      "but if we do,\n",
      "we can break the string across multiple lines:"
     ]
    },
    {
     "cell_type": "code",
     "collapsed": false,
     "input": [
      "def center(data, desired):\n",
      "    '''Return a new array containing the original data centered around the desired value.\n",
      "    Example: center([1, 2, 3], 0) => [-1, 0, 1]'''\n",
      "    return (data - data.mean()) + desired\n",
      "\n",
      "help(center)"
     ],
     "language": "python",
     "metadata": {
      "cell_tags": []
     },
     "outputs": [
      {
       "output_type": "stream",
       "stream": "stdout",
       "text": [
        "Help on function center in module __main__:\n",
        "\n",
        "center(data, desired)\n",
        "    Return a new array containing the original data centered around the desired value.\n",
        "    Example: center([1, 2, 3], 0) => [-1, 0, 1]\n",
        "\n"
       ]
      }
     ],
     "prompt_number": 1
    },
    {
     "cell_type": "markdown",
     "metadata": {
      "cell_tags": [
       "challenges"
      ]
     },
     "source": [
      "#### Challenges\n",
      "\n",
      "1.  Write a function called `analyze` that takes a filename as a parameter\n",
      "    and displays the three graphs produced in the [previous lesson](01-numpy.ipynb),\n",
      "    i.e.,\n",
      "    `analyze('data/inflammation-01.csv')` should produce the graphs already shown,\n",
      "    while `analyze('data/inflammation-02.csv')` should produce corresponding graphs for the second data set.\n",
      "    Be sure to give your function a docstring.\n",
      "\n",
      "2.  Write a function `rescale` that takes an array as input\n",
      "    and returns a corresponding array of values scaled to lie in the range 0.0 to 1.0.\n",
      "    (If $L$ and $H$ are the lowest and highest values in the original array,\n",
      "    then the replacement for a value $v$ should be $(v-L) / (H-L)$.)\n",
      "    Be sure to give the function a docstring.\n",
      "\n",
      "3.  Run the commands `help(numpy.arange)` and `help(numpy.linspace)`\n",
      "    to see how to use these functions to generate regularly-spaced values,\n",
      "    then use those values to test your `rescale` function."
     ]
    },
    {
     "cell_type": "heading",
     "level": 3,
     "metadata": {
      "cell_tags": []
     },
     "source": [
      "Defining Defaults"
     ]
    },
    {
     "cell_type": "markdown",
     "metadata": {
      "cell_tags": []
     },
     "source": [
      "We have passed parameters to functions in two ways:\n",
      "directly, as in `span(data)`,\n",
      "and by name, as in `numpy.loadtxt(fname='something.csv', delimiter=',')`.\n",
      "In fact,\n",
      "we can pass the filename to `loadtxt` without the `fname=`:"
     ]
    },
    {
     "cell_type": "code",
     "collapsed": false,
     "input": [
      "numpy.loadtxt('data/inflammation-01.csv', delimiter=',')"
     ],
     "language": "python",
     "metadata": {
      "cell_tags": []
     },
     "outputs": []
    },
    {
     "cell_type": "markdown",
     "metadata": {
      "cell_tags": []
     },
     "source": [
      "but we still need to say `delimiter=`:"
     ]
    },
    {
     "cell_type": "code",
     "collapsed": false,
     "input": [
      "numpy.loadtxt('data/inflammation-01.csv', ',')"
     ],
     "language": "python",
     "metadata": {
      "cell_tags": []
     },
     "outputs": []
    },
    {
     "cell_type": "markdown",
     "metadata": {
      "cell_tags": []
     },
     "source": [
      "To understand what's going on,\n",
      "and make our own functions easier to use,\n",
      "let's re-define our `center` function like this:"
     ]
    },
    {
     "cell_type": "code",
     "collapsed": false,
     "input": [
      "def center(data, desired=0.0):\n",
      "    '''Return a new array containing the original data centered around the desired value (0 by default).\n",
      "    Example: center([1, 2, 3], 0) => [-1, 0, 1]'''\n",
      "    return (data - data.mean()) + desired"
     ],
     "language": "python",
     "metadata": {
      "cell_tags": []
     },
     "outputs": [],
     "prompt_number": 6
    },
    {
     "cell_type": "markdown",
     "metadata": {
      "cell_tags": []
     },
     "source": [
      "The key change is that the second parameter is now written `desired=0.0` instead of just `desired`.\n",
      "If we call the function with two arguments,\n",
      "it works as it did before:"
     ]
    },
    {
     "cell_type": "code",
     "collapsed": false,
     "input": [
      "test_data = numpy.zeros((2, 2))\n",
      "print center(test_data, 3)"
     ],
     "language": "python",
     "metadata": {
      "cell_tags": []
     },
     "outputs": [
      {
       "output_type": "stream",
       "stream": "stdout",
       "text": [
        "[[ 3.  3.]\n",
        " [ 3.  3.]]\n"
       ]
      }
     ],
     "prompt_number": 7
    },
    {
     "cell_type": "markdown",
     "metadata": {
      "cell_tags": []
     },
     "source": [
      "But we can also now call it with just one parameter,\n",
      "in which case `desired` is automatically assigned the [default value](../gloss.html#default-parameter-value) of 0.0:"
     ]
    },
    {
     "cell_type": "code",
     "collapsed": false,
     "input": [
      "import numpy\n"
     ],
     "language": "python",
     "metadata": {},
     "outputs": [],
     "prompt_number": 3
    },
    {
     "cell_type": "raw",
     "metadata": {},
     "source": [
      "center(numpy.ndarray([1,2,3]),0)"
     ]
    },
    {
     "cell_type": "code",
     "collapsed": false,
     "input": [
      "more_data = 5 + numpy.zeros((2, 2))\n",
      "print 'data before centering:', more_data\n",
      "print 'centered data:', center(more_data)"
     ],
     "language": "python",
     "metadata": {
      "cell_tags": []
     },
     "outputs": [
      {
       "output_type": "stream",
       "stream": "stdout",
       "text": [
        "data before centering: [[ 5.  5.]\n",
        " [ 5.  5.]]\n",
        "centered data:"
       ]
      },
      {
       "ename": "TypeError",
       "evalue": "center() takes exactly 2 arguments (1 given)",
       "output_type": "pyerr",
       "traceback": [
        "\u001b[0;31m---------------------------------------------------------------------------\u001b[0m\n\u001b[0;31mTypeError\u001b[0m                                 Traceback (most recent call last)",
        "\u001b[0;32m<ipython-input-4-3c0468d7153f>\u001b[0m in \u001b[0;36m<module>\u001b[0;34m()\u001b[0m\n\u001b[1;32m      1\u001b[0m \u001b[0mmore_data\u001b[0m \u001b[0;34m=\u001b[0m \u001b[0;36m5\u001b[0m \u001b[0;34m+\u001b[0m \u001b[0mnumpy\u001b[0m\u001b[0;34m.\u001b[0m\u001b[0mzeros\u001b[0m\u001b[0;34m(\u001b[0m\u001b[0;34m(\u001b[0m\u001b[0;36m2\u001b[0m\u001b[0;34m,\u001b[0m \u001b[0;36m2\u001b[0m\u001b[0;34m)\u001b[0m\u001b[0;34m)\u001b[0m\u001b[0;34m\u001b[0m\u001b[0m\n\u001b[1;32m      2\u001b[0m \u001b[0;32mprint\u001b[0m \u001b[0;34m'data before centering:'\u001b[0m\u001b[0;34m,\u001b[0m \u001b[0mmore_data\u001b[0m\u001b[0;34m\u001b[0m\u001b[0m\n\u001b[0;32m----> 3\u001b[0;31m \u001b[0;32mprint\u001b[0m \u001b[0;34m'centered data:'\u001b[0m\u001b[0;34m,\u001b[0m \u001b[0mcenter\u001b[0m\u001b[0;34m(\u001b[0m\u001b[0mmore_data\u001b[0m\u001b[0;34m)\u001b[0m\u001b[0;34m\u001b[0m\u001b[0m\n\u001b[0m",
        "\u001b[0;31mTypeError\u001b[0m: center() takes exactly 2 arguments (1 given)"
       ]
      }
     ],
     "prompt_number": 4
    },
    {
     "cell_type": "markdown",
     "metadata": {
      "cell_tags": []
     },
     "source": [
      "This is handy:\n",
      "if we usually want a function to work one way,\n",
      "but occasionally need it to do something else,\n",
      "we can allow people to pass a parameter when they need to\n",
      "but provide a default to make the normal case easier.\n",
      "The example below shows how Python matches values to parameters:"
     ]
    },
    {
     "cell_type": "code",
     "collapsed": false,
     "input": [
      "def display(a=1, b=2, c=3):\n",
      "    print 'a:', a, 'b:', b, 'c:', c\n",
      "\n",
      "print 'no parameters:'\n",
      "display()\n",
      "print 'one parameter:'\n",
      "display(55)\n",
      "print 'two parameters:'\n",
      "display(55, 66)"
     ],
     "language": "python",
     "metadata": {
      "cell_tags": []
     },
     "outputs": []
    },
    {
     "cell_type": "markdown",
     "metadata": {
      "cell_tags": []
     },
     "source": [
      "As this example shows,\n",
      "parameters are matched up from left to right,\n",
      "and any that haven't been given a value explicitly get their default value.\n",
      "We can override this behavior by naming the value as we pass it in:"
     ]
    },
    {
     "cell_type": "code",
     "collapsed": false,
     "input": [
      "print 'only setting the value of c'\n",
      "display(c=77)"
     ],
     "language": "python",
     "metadata": {
      "cell_tags": []
     },
     "outputs": []
    },
    {
     "cell_type": "markdown",
     "metadata": {
      "cell_tags": []
     },
     "source": [
      "With that in hand,\n",
      "let's look at the help for `numpy.loadtxt`:"
     ]
    },
    {
     "cell_type": "code",
     "collapsed": false,
     "input": [
      "help(numpy.loadtxt)"
     ],
     "language": "python",
     "metadata": {
      "cell_tags": []
     },
     "outputs": []
    },
    {
     "cell_type": "markdown",
     "metadata": {
      "cell_tags": []
     },
     "source": [
      "There's a lot of information here,\n",
      "but the most important part is the first couple of lines:\n",
      "\n",
      "~~~python\n",
      "loadtxt(fname, dtype=<type 'float'>, comments='#', delimiter=None, converters=None, skiprows=0, usecols=None,\n",
      "        unpack=False, ndmin=0)\n",
      "~~~\n",
      "\n",
      "This tells us that `loadtxt` has one parameter called `fname` that doesn't have a default value,\n",
      "and eight others that do.\n",
      "If we call the function like this:\n",
      "\n",
      "~~~python\n",
      "numpy.loadtxt('data/inflammation-01.csv', ',')\n",
      "~~~\n",
      "\n",
      "then the filename is assigned to `fname` (which is what we want),\n",
      "but the delimiter string `','` is assigned to `dtype` rather than `delimiter`,\n",
      "because `dtype` is the second parameter in the list.\n",
      "That's why we don't have to provide `fname=` for the filename,\n",
      "but *do* have to provide `delimiter=` for the second parameter."
     ]
    },
    {
     "cell_type": "markdown",
     "metadata": {
      "cell_tags": [
       "challenges"
      ]
     },
     "source": [
      "#### Challenges (optional)\n",
      "\n",
      "1.  Rewrite the `rescale` function so that it scales data to lie between 0.0 and 1.0 by default,\n",
      "    but will allow the caller to specify lower and upper bounds if they want.\n",
      "    Compare your implementation to your neighbor's:\n",
      "    do the two functions always behave the same way?"
     ]
    },
    {
     "cell_type": "markdown",
     "metadata": {
      "cell_tags": [
       "keypoints"
      ]
     },
     "source": [
      "#### Key Points\n",
      "\n",
      "*   Define a function using `def name(...params...)`.\n",
      "*   The body of a function must be indented.\n",
      "*   Call a function using `name(...values...)`.\n",
      "*   Numbers are stored as integers or floating-point numbers.\n",
      "*   Integer division produces the whole part of the answer (not the fractional part).\n",
      "*   Each time a function is called, a new stack frame is created on the [call stack](../gloss.html#call-stack) to hold its parameters and local variables.\n",
      "*   Python looks for variables in the current stack frame before looking for them at the top level.\n",
      "*   Use `help(thing)` to view help for something.\n",
      "*   Put docstrings in functions to provide help for that function.\n",
      "*   Specify default values for parameters when defining a function using `name=value` in the parameter list.\n",
      "*   Parameters can be passed by matching based on name, by position, or by omitting them (in which case the default value is used)."
     ]
    },
    {
     "cell_type": "markdown",
     "metadata": {
      "cell_tags": []
     },
     "source": [
      "#### Next Steps\n",
      "\n",
      "We now have a function called `analyze` to visualize a single data set.\n",
      "We could use it to explore all 12 of our current data sets like this:\n",
      "\n",
      "~~~python\n",
      "analyze('data/inflammation-01.csv')\n",
      "analyze('data/inflammation-02.csv')\n",
      "...\n",
      "analyze('data/inflammation-12.csv')\n",
      "~~~\n",
      "\n",
      "but the chances of us typing all 12 filenames correctly aren't great,\n",
      "and we'll be even worse off if we get another hundred files.\n",
      "What we need is a way to tell Python to do something once for each file,\n",
      "and that will be the subject of the next lesson."
     ]
    }
   ],
   "metadata": {}
  }
 ]
}
