{
 "metadata": {
  "name": "",
  "signature": "sha256:731e23cef3e2c5561697810432d2cdb1f1ebfb32d3837d976a190906f0320e58"
 },
 "nbformat": 3,
 "nbformat_minor": 0,
 "worksheets": [
  {
   "cells": [
    {
     "cell_type": "heading",
     "level": 2,
     "metadata": {
      "cell_tags": []
     },
     "source": [
      "Command-Line Programs"
     ]
    },
    {
     "cell_type": "markdown",
     "metadata": {
      "cell_tags": []
     },
     "source": [
      "The IPython Notebook and other interactive tools are great for prototyping code and exploring data,\n",
      "but sooner or later we will want to use our program in a pipeline\n",
      "or run it in a shell script to process thousands of data files.\n",
      "In order to do that,\n",
      "we need to make our programs work like other Unix command-line tools.\n",
      "For example,\n",
      "we may want a program that reads a data set\n",
      "and prints the average inflammation per patient:\n",
      "\n",
      "~~~\n",
      "$ python readings.py --mean inflammation-01.csv\n",
      "5.45\n",
      "5.425\n",
      "6.1\n",
      "...\n",
      "6.4\n",
      "7.05\n",
      "5.9\n",
      "~~~\n",
      "\n",
      "but we might also want to look at the minimum of the first four lines\n",
      "\n",
      "~~~\n",
      "$ head -4 inflammation-01.csv | python readings.py --min\n",
      "~~~\n",
      "\n",
      "or the maximum inflammations in several files one after another:\n",
      "\n",
      "~~~\n",
      "$ python readings.py --max inflammation-*.csv\n",
      "~~~\n",
      "\n",
      "Our overall requirements are:\n",
      "\n",
      "1. If no filename is given on the command line, read data from [standard input](../gloss.html#standard-input).\n",
      "2. If one or more filenames are given, read data from them and report statistics for each file separately.\n",
      "3. Use the `--min`, `--mean`, or `--max` flag to determine what statistic to print.\n",
      "\n",
      "To make this work,\n",
      "we need to know how to handle command-line arguments in a program,\n",
      "and how to get at standard input.\n",
      "We'll tackle these questions in turn below."
     ]
    },
    {
     "cell_type": "markdown",
     "metadata": {
      "cell_tags": [
       "objectives"
      ]
     },
     "source": [
      "#### Objectives\n",
      "\n",
      "*   Use the values of command-line arguments in a program.\n",
      "*   Handle flags and files separately in a command-line program.\n",
      "*   Read data from standard input in a program so that it can be used in a pipeline."
     ]
    },
    {
     "cell_type": "heading",
     "level": 3,
     "metadata": {
      "cell_tags": []
     },
     "source": [
      "Command-Line Arguments"
     ]
    },
    {
     "cell_type": "markdown",
     "metadata": {
      "cell_tags": []
     },
     "source": [
      "Using the text editor of your choice,\n",
      "save the following in a text file:"
     ]
    },
    {
     "cell_type": "code",
     "collapsed": false,
     "input": [
      "!cat code/sys-version.py"
     ],
     "language": "python",
     "metadata": {
      "cell_tags": []
     },
     "outputs": [
      {
       "output_type": "stream",
       "stream": "stdout",
       "text": [
        "import sys\r\n",
        "print 'version is', sys.version\r\n"
       ]
      }
     ],
     "prompt_number": 26
    },
    {
     "cell_type": "markdown",
     "metadata": {
      "cell_tags": []
     },
     "source": [
      "The first line imports a library called `sys`,\n",
      "which is short for \"system\".\n",
      "It defines values such as `sys.version`,\n",
      "which describes which version of Python we are running.\n",
      "We can run this script from within the IPython Notebook like this:"
     ]
    },
    {
     "cell_type": "code",
     "collapsed": false,
     "input": [
      "%run code/sys-version.py"
     ],
     "language": "python",
     "metadata": {
      "cell_tags": []
     },
     "outputs": [
      {
       "output_type": "stream",
       "stream": "stdout",
       "text": [
        "version is 2.7.8 |Anaconda 2.0.1 (x86_64)| (default, Aug 21 2014, 15:21:46) \n",
        "[GCC 4.2.1 (Apple Inc. build 5577)]\n"
       ]
      }
     ],
     "prompt_number": 25
    },
    {
     "cell_type": "markdown",
     "metadata": {
      "cell_tags": []
     },
     "source": [
      "or like this:"
     ]
    },
    {
     "cell_type": "code",
     "collapsed": false,
     "input": [
      "!ipython code/sys-version.py"
     ],
     "language": "python",
     "metadata": {
      "cell_tags": []
     },
     "outputs": [
      {
       "output_type": "stream",
       "stream": "stdout",
       "text": [
        "version is 2.7.8 |Anaconda 2.0.1 (x86_64)| (default, Aug 21 2014, 15:21:46) \r\n",
        "[GCC 4.2.1 (Apple Inc. build 5577)]\r\n"
       ]
      }
     ],
     "prompt_number": 27
    },
    {
     "cell_type": "markdown",
     "metadata": {
      "cell_tags": []
     },
     "source": [
      "The first method, `%run`,\n",
      "uses a special command in the IPython Notebook to run a program in a `.py` file.\n",
      "The second method is more general:\n",
      "the exclamation mark `!` tells the Notebook to run a shell command,\n",
      "and it just so happens that the command we run is `ipython` with the name of the script."
     ]
    },
    {
     "cell_type": "markdown",
     "metadata": {
      "cell_tags": []
     },
     "source": [
      "Here's another script that does something more interesting:"
     ]
    },
    {
     "cell_type": "code",
     "collapsed": false,
     "input": [
      "!cat code/argv-list.py"
     ],
     "language": "python",
     "metadata": {
      "cell_tags": []
     },
     "outputs": [
      {
       "output_type": "stream",
       "stream": "stdout",
       "text": [
        "import sys\r\n",
        "print 'sys.argv is', sys.argv\r\n"
       ]
      }
     ],
     "prompt_number": 28
    },
    {
     "cell_type": "markdown",
     "metadata": {
      "cell_tags": []
     },
     "source": [
      "The strange name `argv` stands for \"argument values\".\n",
      "Whenever Python runs a program,\n",
      "it takes all of the values given on the command line\n",
      "and puts them in the list `sys.argv`\n",
      "so that the program can determine what they were.\n",
      "If we run this program with no arguments:"
     ]
    },
    {
     "cell_type": "code",
     "collapsed": false,
     "input": [
      "!ipython code/argv-list.py"
     ],
     "language": "python",
     "metadata": {
      "cell_tags": []
     },
     "outputs": [
      {
       "output_type": "stream",
       "stream": "stdout",
       "text": [
        "sys.argv is ['/Users/aproeme/swc/2014-12-03-edinburgh/archer/python/code/argv-list.py']\r\n"
       ]
      }
     ],
     "prompt_number": 29
    },
    {
     "cell_type": "markdown",
     "metadata": {
      "cell_tags": []
     },
     "source": [
      "the only thing in the list is the full path to our script,\n",
      "which is always `sys.argv[0]`.\n",
      "If we run it with a few arguments, however:"
     ]
    },
    {
     "cell_type": "code",
     "collapsed": false,
     "input": [
      "!ipython code/argv-list.py first second third"
     ],
     "language": "python",
     "metadata": {
      "cell_tags": []
     },
     "outputs": [
      {
       "output_type": "stream",
       "stream": "stdout",
       "text": [
        "sys.argv is ['/Users/aproeme/swc/2014-12-03-edinburgh/archer/python/code/argv-list.py', 'first', 'second', 'third']\r\n"
       ]
      }
     ],
     "prompt_number": 30
    },
    {
     "cell_type": "markdown",
     "metadata": {
      "cell_tags": []
     },
     "source": [
      "then Python adds each of those arguments to that magic list."
     ]
    },
    {
     "cell_type": "markdown",
     "metadata": {
      "cell_tags": []
     },
     "source": [
      "With this in hand,\n",
      "let's build a version of `readings.py` that always prints the per-patient mean of a single data file.\n",
      "The first step is to write a function that outlines our implementation,\n",
      "and a placeholder for the function that does the actual work.\n",
      "By convention this function is usually called `main`,\n",
      "though we can call it whatever we want:"
     ]
    },
    {
     "cell_type": "code",
     "collapsed": false,
     "input": [
      "!cat code/readings-01.py"
     ],
     "language": "python",
     "metadata": {
      "cell_tags": []
     },
     "outputs": [
      {
       "output_type": "stream",
       "stream": "stdout",
       "text": [
        "import sys\r\n",
        "import numpy as np\r\n",
        "\r\n",
        "def main():\r\n",
        "    script = sys.argv[0]\r\n",
        "    filename = sys.argv[1]\r\n",
        "    data = np.loadtxt(filename, delimiter=',')\r\n",
        "    for m in data.mean(axis=1):\r\n",
        "        print m\r\n"
       ]
      }
     ],
     "prompt_number": 31
    },
    {
     "cell_type": "markdown",
     "metadata": {
      "cell_tags": []
     },
     "source": [
      "This function gets the name of the script from `sys.argv[0]`,\n",
      "because that's where it's always put,\n",
      "and the name of the file to process from `sys.argv[1]`.\n",
      "Here's a simple test:"
     ]
    },
    {
     "cell_type": "code",
     "collapsed": false,
     "input": [
      "%run code/readings-01.py inflammation-01.csv"
     ],
     "language": "python",
     "metadata": {
      "cell_tags": []
     },
     "outputs": [],
     "prompt_number": 32
    },
    {
     "cell_type": "markdown",
     "metadata": {
      "cell_tags": []
     },
     "source": [
      "There is no output because we have defined a function,\n",
      "but haven't actually called it.\n",
      "Let's add a call to `main`:"
     ]
    },
    {
     "cell_type": "code",
     "collapsed": false,
     "input": [
      "!cat code/readings-02.py"
     ],
     "language": "python",
     "metadata": {
      "cell_tags": []
     },
     "outputs": [
      {
       "output_type": "stream",
       "stream": "stdout",
       "text": [
        "import sys\r\n",
        "import numpy as np\r\n",
        "\r\n",
        "def main():\r\n",
        "    script = sys.argv[0]\r\n",
        "    filename = sys.argv[1]\r\n",
        "    data = np.loadtxt(filename, delimiter=',')\r\n",
        "    for m in data.mean(axis=1):\r\n",
        "        print m\r\n",
        "\r\n",
        "main()\r\n"
       ]
      }
     ],
     "prompt_number": 33
    },
    {
     "cell_type": "markdown",
     "metadata": {
      "cell_tags": []
     },
     "source": [
      "and run that:"
     ]
    },
    {
     "cell_type": "code",
     "collapsed": false,
     "input": [
      "%run code/readings-02.py data/inflammation-01.csv"
     ],
     "language": "python",
     "metadata": {
      "cell_tags": []
     },
     "outputs": [
      {
       "output_type": "stream",
       "stream": "stdout",
       "text": [
        "5.45\n",
        "5.425\n",
        "6.1\n",
        "5.9\n",
        "5.55\n",
        "6.225\n",
        "5.975\n",
        "6.65\n",
        "6.625\n",
        "6.525\n",
        "6.775\n",
        "5.8\n",
        "6.225\n",
        "5.75\n",
        "5.225\n",
        "6.3\n",
        "6.55\n",
        "5.7\n",
        "5.85\n",
        "6.55\n",
        "5.775\n",
        "5.825\n",
        "6.175\n",
        "6.1\n",
        "5.8\n",
        "6.425\n",
        "6.05\n",
        "6.025\n",
        "6.175\n",
        "6.55\n",
        "6.175\n",
        "6.35\n",
        "6.725\n",
        "6.125\n",
        "7.075\n",
        "5.725\n",
        "5.925\n",
        "6.15\n",
        "6.075\n",
        "5.75\n",
        "5.975\n",
        "5.725\n",
        "6.3\n",
        "5.9\n",
        "6.75\n",
        "5.925\n",
        "7.225\n",
        "6.15\n",
        "5.95\n",
        "6.275\n",
        "5.7\n",
        "6.1\n",
        "6.825\n",
        "5.975\n",
        "6.725\n",
        "5.7\n",
        "6.25\n",
        "6.4\n",
        "7.05\n",
        "5.9\n"
       ]
      }
     ],
     "prompt_number": 36
    },
    {
     "cell_type": "markdown",
     "metadata": {},
     "source": [
      "> #### The Right Way to Do It\n",
      ">\n",
      "> If our programs can take complex parameters or multiple filenames,\n",
      "> we shouldn't handle `sys.argv` directly.\n",
      "> Instead,\n",
      "> we should use Python's `argparse` library,\n",
      "> which handles common cases in a systematic way,\n",
      "> and also makes it easy for us to provide sensible error messages for our users."
     ]
    },
    {
     "cell_type": "markdown",
     "metadata": {
      "cell_tags": [
       "challenges"
      ]
     },
     "source": [
      "#### Challenges\n",
      "\n",
      "1.  Write a command-line program that does addition and subtraction:\n",
      "\n",
      "    ~~~\n",
      "    $ python arith.py 1 + 2\n",
      "    3\n",
      "    $ python arith.py 3 - 4\n",
      "    -1\n",
      "    ~~~\n",
      "\n",
      "    What goes wrong if you try to add multiplication using '*' to the program?\n",
      "\n",
      "2.  Using the `glob` module introduced [03-loop.ipynb](earlier),\n",
      "    write a simple version of `ls` that shows files in the current directory with a particular suffix:\n",
      "    \n",
      "    ~~~\n",
      "    $ python my_ls.py py\n",
      "    left.py\n",
      "    right.py\n",
      "    zero.py\n",
      "    ~~~"
     ]
    },
    {
     "cell_type": "heading",
     "level": 3,
     "metadata": {
      "cell_tags": []
     },
     "source": [
      "Handling Multiple Files"
     ]
    },
    {
     "cell_type": "markdown",
     "metadata": {
      "cell_tags": []
     },
     "source": [
      "The next step is to teach our program how to handle multiple files.\n",
      "Since 60 lines of output per file is a lot to page through,\n",
      "we'll start by creating three smaller files,\n",
      "each of which has three days of data for two patients:"
     ]
    },
    {
     "cell_type": "code",
     "collapsed": false,
     "input": [
      "!ls data/small-*.csv"
     ],
     "language": "python",
     "metadata": {
      "cell_tags": []
     },
     "outputs": [
      {
       "output_type": "stream",
       "stream": "stdout",
       "text": [
        "data/small-01.csv data/small-02.csv data/small-03.csv\r\n"
       ]
      }
     ],
     "prompt_number": 38
    },
    {
     "cell_type": "code",
     "collapsed": false,
     "input": [
      "!cat data/small-01.csv"
     ],
     "language": "python",
     "metadata": {
      "cell_tags": []
     },
     "outputs": [
      {
       "output_type": "stream",
       "stream": "stdout",
       "text": [
        "0,0,1\r\n",
        "0,1,2\r\n"
       ]
      }
     ],
     "prompt_number": 39
    },
    {
     "cell_type": "code",
     "collapsed": false,
     "input": [
      "%run code/readings-02.py data/small-01.csv"
     ],
     "language": "python",
     "metadata": {
      "cell_tags": []
     },
     "outputs": [
      {
       "output_type": "stream",
       "stream": "stdout",
       "text": [
        "0.333333333333\n",
        "1.0\n"
       ]
      }
     ],
     "prompt_number": 40
    },
    {
     "cell_type": "markdown",
     "metadata": {
      "cell_tags": []
     },
     "source": [
      "Using small data files as input also allows us to check our results more easily:\n",
      "here,\n",
      "for example,\n",
      "we can see that our program is calculating the mean correctly for each line,\n",
      "whereas we were really taking it on faith before.\n",
      "This is yet another rule of programming:\n",
      "\"[test the simple things first](../../rules.html#test-simple-first)\".\n",
      "\n",
      "We want our program to process each file separately,\n",
      "so we need a loop that executes once for each filename.\n",
      "If we specify the files on the command line,\n",
      "the filenames will be in `sys.argv`,\n",
      "but we need to be careful:\n",
      "`sys.argv[0]` will always be the name of our script,\n",
      "rather than the name of a file.\n",
      "We also need to handle an unknown number of filenames,\n",
      "since our program could be run for any number of files.\n",
      "\n",
      "The solution to both problems is to loop over the contents of `sys.argv[1:]`.\n",
      "The '1' tells Python to start the slice at location 1,\n",
      "so the program's name isn't included;\n",
      "since we've left off the upper bound,\n",
      "the slice runs to the end of the list,\n",
      "and includes all the filenames.\n",
      "Here's our changed program:"
     ]
    },
    {
     "cell_type": "code",
     "collapsed": false,
     "input": [
      "!cat code/readings-03.py"
     ],
     "language": "python",
     "metadata": {
      "cell_tags": []
     },
     "outputs": [
      {
       "output_type": "stream",
       "stream": "stdout",
       "text": [
        "import sys\r\n",
        "import numpy as np\r\n",
        "\r\n",
        "def main():\r\n",
        "    script = sys.argv[0]\r\n",
        "    for filename in sys.argv[1:]:\r\n",
        "        data = np.loadtxt(filename, delimiter=',')\r\n",
        "        for m in data.mean(axis=1):\r\n",
        "            print m\r\n",
        "\r\n",
        "main()\r\n"
       ]
      }
     ],
     "prompt_number": 41
    },
    {
     "cell_type": "markdown",
     "metadata": {
      "cell_tags": []
     },
     "source": [
      "and here it is in action:"
     ]
    },
    {
     "cell_type": "code",
     "collapsed": false,
     "input": [
      "%run code/readings-03.py data/small-01.csv data/small-02.csv"
     ],
     "language": "python",
     "metadata": {
      "cell_tags": []
     },
     "outputs": [
      {
       "output_type": "stream",
       "stream": "stdout",
       "text": [
        "0.333333333333\n",
        "1.0\n",
        "13.6666666667\n",
        "11.0\n"
       ]
      }
     ],
     "prompt_number": 42
    },
    {
     "cell_type": "markdown",
     "metadata": {
      "cell_tags": []
     },
     "source": [
      "Note:\n",
      "at this point,\n",
      "we have created three versions of our script called `readings-01.py`,\n",
      "`readings-02.py`, and `readings-03.py`.\n",
      "We wouldn't do this in real life:\n",
      "instead,\n",
      "we would have one file called `readings.py` that we committed to version control\n",
      "every time we got an enhancement working.\n",
      "For teaching,\n",
      "though,\n",
      "we need all the successive versions side by side."
     ]
    },
    {
     "cell_type": "markdown",
     "metadata": {
      "cell_tags": [
       "challenges"
      ]
     },
     "source": [
      "#### Challenges\n",
      "\n",
      "1.  Write a program called `check.py` that takes the names of one or more inflammation data files as arguments\n",
      "    and checks that all the files have the same number of rows and columns.\n",
      "    What is the best way to test your program?"
     ]
    },
    {
     "cell_type": "heading",
     "level": 3,
     "metadata": {
      "cell_tags": []
     },
     "source": [
      "Handling Command-Line Flags"
     ]
    },
    {
     "cell_type": "markdown",
     "metadata": {
      "cell_tags": []
     },
     "source": [
      "The next step is to teach our program to pay attention to the `--min`, `--mean`, and `--max` flags.\n",
      "These always appear before the names of the files,\n",
      "so we could just do this:"
     ]
    },
    {
     "cell_type": "code",
     "collapsed": false,
     "input": [
      "!cat code/readings-04.py"
     ],
     "language": "python",
     "metadata": {
      "cell_tags": []
     },
     "outputs": [
      {
       "output_type": "stream",
       "stream": "stdout",
       "text": [
        "import sys\r\n",
        "import numpy as np\r\n",
        "\r\n",
        "def main():\r\n",
        "    script = sys.argv[0]\r\n",
        "    action = sys.argv[1]\r\n",
        "    filenames = sys.argv[2:]\r\n",
        "\r\n",
        "    for f in filenames:\r\n",
        "        data = np.loadtxt(f, delimiter=',')\r\n",
        "\r\n",
        "        if action == '--min':\r\n",
        "            values = data.min(axis=1)\r\n",
        "        elif action == '--mean':\r\n",
        "            values = data.mean(axis=1)\r\n",
        "        elif action == '--max':\r\n",
        "            values = data.max(axis=1)\r\n",
        "\r\n",
        "        for m in values:\r\n",
        "            print m\r\n",
        "\r\n",
        "main()\r\n"
       ]
      }
     ],
     "prompt_number": 43
    },
    {
     "cell_type": "markdown",
     "metadata": {
      "cell_tags": []
     },
     "source": [
      "This works:"
     ]
    },
    {
     "cell_type": "code",
     "collapsed": false,
     "input": [
      "%run code/readings-04.py --max data/small-01.csv"
     ],
     "language": "python",
     "metadata": {
      "cell_tags": []
     },
     "outputs": [
      {
       "output_type": "stream",
       "stream": "stdout",
       "text": [
        "1.0\n",
        "2.0\n"
       ]
      }
     ],
     "prompt_number": 44
    },
    {
     "cell_type": "markdown",
     "metadata": {
      "cell_tags": []
     },
     "source": [
      "but there are seveal things wrong with it:\n",
      "\n",
      "1.  `main` is too large to read comfortably.\n",
      "\n",
      "2.  If `action` isn't one of the three recognized flags,\n",
      "    the program loads each file but does nothing with it\n",
      "    (because none of the branches in the conditional match).\n",
      "    [Silent failures](../gloss.html#silent-failure) like this\n",
      "    are always hard to debug.\n",
      "\n",
      "This version pulls the processing of each file out of the loop into a function of its own.\n",
      "It also checks that `action` is one of the allowed flags\n",
      "before doing any processing,\n",
      "so that the program fails fast:"
     ]
    },
    {
     "cell_type": "code",
     "collapsed": false,
     "input": [
      "!cat code/readings-05.py"
     ],
     "language": "python",
     "metadata": {
      "cell_tags": []
     },
     "outputs": [
      {
       "output_type": "stream",
       "stream": "stdout",
       "text": [
        "import sys\r\n",
        "import numpy as np\r\n",
        "\r\n",
        "def main():\r\n",
        "    script = sys.argv[0]\r\n",
        "    action = sys.argv[1]\r\n",
        "    filenames = sys.argv[2:]\r\n",
        "    assert action in ['--min', '--mean', '--max'], \\\r\n",
        "           'Action is not one of --min, --mean, or --max: ' + action\r\n",
        "    for f in filenames:\r\n",
        "        process(f, action)\r\n",
        "\r\n",
        "def process(filename, action):\r\n",
        "    data = np.loadtxt(filename, delimiter=',')\r\n",
        "\r\n",
        "    if action == '--min':\r\n",
        "        values = data.min(axis=1)\r\n",
        "    elif action == '--mean':\r\n",
        "        values = data.mean(axis=1)\r\n",
        "    elif action == '--max':\r\n",
        "        values = data.max(axis=1)\r\n",
        "\r\n",
        "    for m in values:\r\n",
        "        print m\r\n",
        "\r\n",
        "main()\r\n"
       ]
      }
     ],
     "prompt_number": 45
    },
    {
     "cell_type": "markdown",
     "metadata": {
      "cell_tags": []
     },
     "source": [
      "This is four lines longer than its predecessor,\n",
      "but broken into more digestible chunks of 8 and 12 lines."
     ]
    },
    {
     "cell_type": "markdown",
     "metadata": {},
     "source": [
      "Python has a module named [argparse](http://docs.python.org/dev/library/argparse.html)\n",
      "that helps handle complex command-line flags. We will not cover this module in this lesson\n",
      "but you can go to Tshepang Lekhonkhobe's [Argparse tutorial](http://docs.python.org/dev/howto/argparse.html)\n",
      "that is part of Python's Official Documentation."
     ]
    },
    {
     "cell_type": "markdown",
     "metadata": {
      "cell_tags": [
       "challenges"
      ]
     },
     "source": [
      "#### Challenges\n",
      "\n",
      "1.  Rewrite this program so that it uses `-n`, `-m`, and `-x` instead of `--min`, `--mean`, and `--max` respectively.\n",
      "    Is the code easier to read?\n",
      "    Is the program easier to understand?\n",
      "\n",
      "2.  Separately,\n",
      "    modify the program so that if no parameters are given\n",
      "    (i.e., no action is specified and no filenames are given),\n",
      "    it prints a message explaining how it should be used.\n",
      "\n",
      "3.  Separately,\n",
      "    modify the program so that if no action is given\n",
      "    it displays the means of the data."
     ]
    },
    {
     "cell_type": "heading",
     "level": 3,
     "metadata": {
      "cell_tags": []
     },
     "source": [
      "Handling Standard Input"
     ]
    },
    {
     "cell_type": "markdown",
     "metadata": {
      "cell_tags": []
     },
     "source": [
      "The next thing our program has to do is read data from standard input if no filenames are given\n",
      "so that we can put it in a pipeline,\n",
      "redirect input to it,\n",
      "and so on.\n",
      "Let's experiment in another script:"
     ]
    },
    {
     "cell_type": "code",
     "collapsed": false,
     "input": [
      "!cat code/count-stdin.py"
     ],
     "language": "python",
     "metadata": {
      "cell_tags": []
     },
     "outputs": [
      {
       "output_type": "stream",
       "stream": "stdout",
       "text": [
        "import sys\r\n",
        "\r\n",
        "count = 0\r\n",
        "for line in sys.stdin:\r\n",
        "    count += 1\r\n",
        "\r\n",
        "print count, 'lines in standard input'\r\n",
        "\r\n"
       ]
      }
     ],
     "prompt_number": 46
    },
    {
     "cell_type": "markdown",
     "metadata": {
      "cell_tags": []
     },
     "source": [
      "This little program reads lines from a special \"file\" called `sys.stdin`,\n",
      "which is automatically connected to the program's standard input.\n",
      "We don't have to open it&mdash;Python and the operating system\n",
      "take care of that when the program starts up&mdash;\n",
      "but we can do almost anything with it that we could do to a regular file.\n",
      "Let's try running it as if it were a regular command-line program:"
     ]
    },
    {
     "cell_type": "code",
     "collapsed": false,
     "input": [
      "!ipython code/count-stdin.py < data/small-01.csv"
     ],
     "language": "python",
     "metadata": {
      "cell_tags": []
     },
     "outputs": [
      {
       "output_type": "stream",
       "stream": "stdout",
       "text": [
        "2 lines in standard input\r\n"
       ]
      }
     ],
     "prompt_number": 47
    },
    {
     "cell_type": "markdown",
     "metadata": {
      "cell_tags": []
     },
     "source": [
      "What if we run it using `%run`?"
     ]
    },
    {
     "cell_type": "code",
     "collapsed": false,
     "input": [
      "%run code/count-stdin.py < data/small-01.csv"
     ],
     "language": "python",
     "metadata": {
      "cell_tags": []
     },
     "outputs": [
      {
       "output_type": "stream",
       "stream": "stdout",
       "text": [
        "0 lines in standard input\n"
       ]
      }
     ],
     "prompt_number": 49
    },
    {
     "cell_type": "markdown",
     "metadata": {
      "cell_tags": []
     },
     "source": [
      "As you can see,\n",
      "`%run` doesn't understand file redirection:\n",
      "that's a shell thing.\n",
      "\n",
      "A common mistake is to try to run something that reads from standard input like this:\n",
      "\n",
      "~~~\n",
      "!ipython count_stdin.py small-01.csv\n",
      "~~~\n",
      "\n",
      "i.e., to forget the `<` character that redirect the file to standard input.\n",
      "In this case,\n",
      "there's nothing in standard input,\n",
      "so the program waits at the start of the loop for someone to type something on the keyboard.\n",
      "Since there's no way for us to do this,\n",
      "our program is stuck,\n",
      "and we have to halt it using the `Interrupt` option from the `Kernel` menu in the Notebook.\n",
      "\n",
      "We now need to rewrite the program so that it loads data from `sys.stdin` if no filenames are provided.\n",
      "Luckily,\n",
      "`numpy.loadtxt` can handle either a filename or an open file as its first parameter,\n",
      "so we don't actually need to change `process`.\n",
      "That leaves `main`:"
     ]
    },
    {
     "cell_type": "markdown",
     "metadata": {
      "cell_tags": []
     },
     "source": [
      "~~~\n",
      "def main():\n",
      "    script = sys.argv[0]\n",
      "    action = sys.argv[1]\n",
      "    filenames = sys.argv[2:]\n",
      "    assert action in ['--min', '--mean', '--max'], \\\n",
      "           'Action is not one of --min, --mean, or --max: ' + action\n",
      "    if len(filenames) == 0:\n",
      "        process(sys.stdin, action)\n",
      "    else:\n",
      "        for f in filenames:\n",
      "            process(f, action)\n",
      "~~~"
     ]
    },
    {
     "cell_type": "markdown",
     "metadata": {
      "cell_tags": []
     },
     "source": [
      "Let's try it out\n",
      "(we'll see in a moment why we send the output through `head`):"
     ]
    },
    {
     "cell_type": "code",
     "collapsed": false,
     "input": [
      "!ipython code/readings-06.py --mean < data/small-01.csv"
     ],
     "language": "python",
     "metadata": {
      "cell_tags": []
     },
     "outputs": [
      {
       "output_type": "stream",
       "stream": "stdout",
       "text": [
        "=========\r\n",
        " IPython\r\n",
        "=========\r\n",
        "\r\n",
        "Tools for Interactive Computing in Python\r\n",
        "=========================================\r\n",
        "\r\n",
        "    A Python shell with automatic history (input and output), dynamic object\r\n",
        "    introspection, easier configuration, command completion, access to the\r\n",
        "    system shell and more.  IPython can also be embedded in running programs.\r\n",
        "\r\n",
        "Usage\r\n",
        "\r\n",
        "    ipython [subcommand] [options] [-c cmd | -m mod | file] [--] [arg] ...\r\n",
        "\r\n",
        "    If invoked with no options, it executes the file and exits, passing the\r\n",
        "    remaining arguments to the script, just as if you had specified the same\r\n",
        "    command with python. You may need to specify `--` before args to be passed\r\n",
        "    to the script, to prevent IPython from attempting to parse them. If you\r\n",
        "    specify the option `-i` before the filename, it will enter an interactive\r\n",
        "    IPython session after running the script, rather than exiting. Files ending\r\n",
        "    in .py will be treated as normal Python, but files ending in .ipy can\r\n",
        "    contain special IPython syntax (magic commands, shell expansions, etc.).\r\n",
        "\r\n",
        "    Almost all configuration in IPython is available via the command-line. Do\r\n",
        "    `ipython --help-all` to see all available options.  For persistent\r\n",
        "    configuration, look into your `ipython_config.py` configuration file for\r\n",
        "    details.\r\n",
        "\r\n",
        "    This file is typically installed in the `IPYTHONDIR` directory, and there\r\n",
        "    is a separate configuration directory for each profile. The default profile\r\n",
        "    directory will be located in $IPYTHONDIR/profile_default. IPYTHONDIR\r\n",
        "    defaults to to `$HOME/.ipython`.  For Windows users, $HOME resolves to\r\n",
        "    C:\\Documents and Settings\\YourUserName in most instances.\r\n",
        "\r\n",
        "    To initialize a profile with the default configuration file, do::\r\n",
        "\r\n",
        "      $> ipython profile create\r\n",
        "\r\n",
        "    and start editing `IPYTHONDIR/profile_default/ipython_config.py`\r\n",
        "\r\n",
        "    In IPython's documentation, we will refer to this directory as\r\n",
        "    `IPYTHONDIR`, you can change its default location by creating an\r\n",
        "    environment variable with this name and setting it to the desired path.\r\n",
        "\r\n",
        "    For more information, see the manual available in HTML and PDF in your\r\n",
        "    installation, or online at http://ipython.org/documentation.html.\r\n",
        "\r\n",
        "Subcommands\r\n",
        "-----------\r\n",
        "\r\n",
        "Subcommands are launched as `ipython cmd [args]`. For information on using\r\n",
        "subcommand 'cmd', do: `ipython cmd -h`.\r\n",
        "\r\n",
        "locate\r\n",
        "    print the path to the IPython dir\r\n",
        "kernel\r\n",
        "    Start a kernel without an attached frontend.\r\n",
        "console\r\n",
        "    Launch the IPython terminal-based Console.\r\n",
        "install-nbextension\r\n",
        "    Install IPython notebook extension files\r\n",
        "notebook\r\n",
        "    Launch the IPython HTML Notebook Server.\r\n",
        "profile\r\n",
        "    Create and manage IPython profiles.\r\n",
        "qtconsole\r\n",
        "    Launch the IPython Qt Console.\r\n",
        "nbconvert\r\n",
        "    Convert notebooks to/from other formats.\r\n",
        "trust\r\n",
        "    Sign notebooks to trust their potentially unsafe contents at load.\r\n",
        "history\r\n",
        "    Manage the IPython history database.\r\n",
        "\r\n",
        "Options\r\n",
        "-------\r\n",
        "\r\n",
        "Arguments that take values are actually convenience aliases to full\r\n",
        "Configurables, whose aliases are listed on the help line. For more information\r\n",
        "on full configurables, see '--help-all'.\r\n",
        "\r\n",
        "--no-autoindent\r\n",
        "    Turn off autoindenting.\r\n",
        "--autoedit-syntax\r\n",
        "    Turn on auto editing of files with syntax errors.\r\n",
        "--deep-reload\r\n",
        "    Enable deep (recursive) reloading by default. IPython can use the\r\n",
        "    deep_reload module which reloads changes in modules recursively (it\r\n",
        "    replaces the reload() function, so you don't need to change anything to\r\n",
        "    use it). deep_reload() forces a full reload of modules whose code may\r\n",
        "    have changed, which the default reload() function does not.  When\r\n",
        "    deep_reload is off, IPython will use the normal reload(), but\r\n",
        "    deep_reload will still be available as dreload(). This feature is off\r\n",
        "    by default [which means that you have both normal reload() and\r\n",
        "    dreload()].\r\n",
        "--confirm-exit\r\n",
        "    Set to confirm when you try to exit IPython with an EOF (Control-D\r\n",
        "    in Unix, Control-Z/Enter in Windows). By typing 'exit' or 'quit',\r\n",
        "    you can force a direct exit without any confirmation.\r\n",
        "--pylab\r\n",
        "    Pre-load matplotlib and numpy for interactive use with\r\n",
        "    the default matplotlib backend.\r\n",
        "--matplotlib\r\n",
        "    Configure matplotlib for interactive use with\r\n",
        "    the default matplotlib backend.\r\n",
        "--term-title\r\n",
        "    Enable auto setting the terminal title.\r\n",
        "--classic\r\n",
        "    Gives IPython a similar feel to the classic Python prompt.\r\n",
        "--autoindent\r\n",
        "    Turn on autoindenting.\r\n",
        "--no-automagic\r\n",
        "    Turn off the auto calling of magic commands.\r\n",
        "--banner\r\n",
        "    Display a banner upon starting IPython.\r\n",
        "--automagic\r\n",
        "    Turn on the auto calling of magic commands. Type %%magic at the\r\n",
        "    IPython  prompt  for  more information.\r\n",
        "--no-deep-reload\r\n",
        "    Disable deep (recursive) reloading by default.\r\n",
        "--no-term-title\r\n",
        "    Disable auto setting the terminal title.\r\n",
        "--nosep\r\n",
        "    Eliminate all spacing between prompts.\r\n",
        "-i\r\n",
        "    If running code from the command line, become interactive afterwards.\r\n",
        "    Note: can also be given simply as '-i'.\r\n",
        "--debug\r\n",
        "    set log level to logging.DEBUG (maximize logging output)\r\n",
        "--pprint\r\n",
        "    Enable auto pretty printing of results.\r\n",
        "--no-autoedit-syntax\r\n",
        "    Turn off auto editing of files with syntax errors.\r\n",
        "--quiet\r\n",
        "    set log level to logging.CRITICAL (minimize logging output)\r\n",
        "--no-color-info\r\n",
        "    Disable using colors for info related things.\r\n",
        "--color-info\r\n",
        "    IPython can display information about objects via a set of func-\r\n",
        "    tions, and optionally can use colors for this, syntax highlighting\r\n",
        "    source code and various other elements.  However, because this\r\n",
        "    information is passed through a pager (like 'less') and many pagers get\r\n",
        "    confused with color codes, this option is off by default.  You can test\r\n",
        "    it and turn it on permanently in your ipython_config.py file if it\r\n",
        "    works for you.  Test it and turn it on permanently if it works with\r\n",
        "    your system.  The magic function %%color_info allows you to toggle this\r\n",
        "    interactively for testing.\r\n",
        "--init\r\n",
        "    Initialize profile with default config files.  This is equivalent\r\n",
        "    to running `ipython profile create <profile>` prior to startup.\r\n",
        "--no-pdb\r\n",
        "    Disable auto calling the pdb debugger after every exception.\r\n",
        "--quick\r\n",
        "    Enable quick startup with no config files.\r\n",
        "--no-confirm-exit\r\n",
        "    Don't prompt the user when exiting.\r\n",
        "--pydb\r\n",
        "    Use the third party 'pydb' package as debugger, instead of pdb.\r\n",
        "    Requires that pydb is installed.\r\n",
        "--pdb\r\n",
        "    Enable auto calling the pdb debugger after every exception.\r\n",
        "--no-pprint\r\n",
        "    Disable auto pretty printing of results.\r\n",
        "--no-banner\r\n",
        "    Don't display a banner upon starting IPython.\r\n",
        "--profile=<Unicode> (BaseIPythonApplication.profile)\r\n",
        "    Default: u'default'\r\n",
        "    The IPython profile to use.\r\n",
        "--pylab=<CaselessStrEnum> (InteractiveShellApp.pylab)\r\n",
        "    Default: None\r\n",
        "    Choices: ['auto', 'gtk', 'gtk3', 'inline', 'nbagg', 'osx', 'qt', 'qt4', 'qt5', 'tk', 'wx']\r\n",
        "    Pre-load matplotlib and numpy for interactive use, selecting a particular\r\n",
        "    matplotlib backend and loop integration.\r\n",
        "--matplotlib=<CaselessStrEnum> (InteractiveShellApp.matplotlib)\r\n",
        "    Default: None\r\n",
        "    Choices: ['auto', 'gtk', 'gtk3', 'inline', 'nbagg', 'osx', 'qt', 'qt4', 'qt5', 'tk', 'wx']\r\n",
        "    Configure matplotlib for interactive use with the default matplotlib\r\n",
        "    backend.\r\n",
        "--colors=<CaselessStrEnum> (InteractiveShell.colors)\r\n",
        "    Default: 'LightBG'\r\n",
        "    Choices: ('NoColor', 'LightBG', 'Linux')\r\n",
        "    Set the color scheme (NoColor, Linux, or LightBG).\r\n",
        "--cache-size=<Integer> (InteractiveShell.cache_size)\r\n",
        "    Default: 1000\r\n",
        "    Set the size of the output cache.  The default is 1000, you can change it\r\n",
        "    permanently in your config file.  Setting it to 0 completely disables the\r\n",
        "    caching system, and the minimum value accepted is 20 (if you provide a value\r\n",
        "    less than 20, it is reset to 0 and a warning is issued).  This limit is\r\n",
        "    defined because otherwise you'll spend more time re-flushing a too small\r\n",
        "    cache than working\r\n",
        "--logfile=<Unicode> (InteractiveShell.logfile)\r\n",
        "    Default: ''\r\n",
        "    The name of the logfile to use.\r\n",
        "--profile-dir=<Unicode> (ProfileDir.location)\r\n",
        "    Default: u''\r\n",
        "    Set the profile location directly. This overrides the logic used by the\r\n",
        "    `profile` option.\r\n",
        "-c <Unicode> (InteractiveShellApp.code_to_run)\r\n",
        "    Default: ''\r\n",
        "    Execute the given command string.\r\n",
        "--autocall=<Enum> (InteractiveShell.autocall)\r\n",
        "    Default: 0\r\n",
        "    Choices: (0, 1, 2)\r\n",
        "    Make IPython automatically call any callable object even if you didn't type\r\n",
        "    explicit parentheses. For example, 'str 43' becomes 'str(43)' automatically.\r\n",
        "    The value can be '0' to disable the feature, '1' for 'smart' autocall, where\r\n",
        "    it is not applied if there are no more arguments on the line, and '2' for\r\n",
        "    'full' autocall, where all callable objects are automatically called (even\r\n",
        "    if no arguments are present).\r\n",
        "--ipython-dir=<Unicode> (BaseIPythonApplication.ipython_dir)\r\n",
        "    Default: u''\r\n",
        "    The name of the IPython directory. This directory is used for logging\r\n",
        "    configuration (through profiles), history storage, etc. The default is\r\n",
        "    usually $HOME/.ipython. This options can also be specified through the\r\n",
        "    environment variable IPYTHONDIR.\r\n",
        "--gui=<CaselessStrEnum> (InteractiveShellApp.gui)\r\n",
        "    Default: None\r\n",
        "    Choices: ('glut', 'gtk', 'gtk3', 'none', 'osx', 'pyglet', 'qt', 'qt4', 'tk', 'wx')\r\n",
        "    Enable GUI event loop integration with any of ('glut', 'gtk', 'gtk3',\r\n",
        "    'none', 'osx', 'pyglet', 'qt', 'qt4', 'tk', 'wx').\r\n",
        "--logappend=<Unicode> (InteractiveShell.logappend)\r\n",
        "    Default: ''\r\n",
        "    Start logging to the given file in append mode.\r\n",
        "-m <Unicode> (InteractiveShellApp.module_to_run)\r\n",
        "    Default: ''\r\n",
        "    Run the module as a script.\r\n",
        "--log-level=<Enum> (Application.log_level)\r\n",
        "    Default: 30\r\n",
        "    Choices: (0, 10, 20, 30, 40, 50, 'DEBUG', 'INFO', 'WARN', 'ERROR', 'CRITICAL')\r\n",
        "    Set the log level by value or name.\r\n",
        "--ext=<Unicode> (InteractiveShellApp.extra_extension)\r\n",
        "    Default: ''\r\n",
        "    dotted module name of an IPython extension to load.\r\n",
        "--config=<Unicode> (BaseIPythonApplication.extra_config_file)\r\n",
        "    Default: u''\r\n",
        "    Path to an extra config file to load.\r\n",
        "    If specified, load this config file in addition to any other IPython config.\r\n",
        "\r\n",
        "To see all available configurables, use `--help-all`\r\n",
        "\r\n",
        "Examples\r\n",
        "--------\r\n",
        "\r\n",
        "    ipython --matplotlib       # enable matplotlib integration\r\n",
        "    ipython --matplotlib=qt    # enable matplotlib integration with qt4 backend\r\n",
        "    \r\n",
        "    ipython --log-level=DEBUG  # set logging to DEBUG\r\n",
        "    ipython --profile=foo      # start with profile foo\r\n",
        "    \r\n",
        "    ipython qtconsole          # start the qtconsole GUI application\r\n",
        "    ipython help qtconsole     # show the help for the qtconsole subcmd\r\n",
        "    \r\n",
        "    ipython console            # start the terminal-based console application\r\n",
        "    ipython help console       # show the help for the console subcmd\r\n",
        "    \r\n",
        "    ipython notebook           # start the IPython notebook\r\n",
        "    ipython help notebook      # show the help for the notebook subcmd\r\n",
        "    \r\n",
        "    ipython profile create foo # create profile foo w/ default config files\r\n",
        "    ipython help profile       # show the help for the profile subcmd\r\n",
        "    \r\n",
        "    ipython locate             # print the path to the IPython directory\r\n",
        "    ipython locate profile foo # print the path to the directory for profile `foo`\r\n",
        "    \r\n",
        "    ipython nbconvert           # convert notebooks to/from other formats\r\n",
        "\r\n",
        "[TerminalIPythonApp] CRITICAL | Bad config encountered during initialization:\r\n",
        "[TerminalIPythonApp] CRITICAL | Unrecognized flag: '--mean'\r\n"
       ]
      }
     ],
     "prompt_number": 50
    },
    {
     "cell_type": "markdown",
     "metadata": {
      "cell_tags": []
     },
     "source": [
      "Whoops:\n",
      "why are we getting IPython's help rather than the line-by-line average of our data?\n",
      "The answer is that IPython has a hard time telling\n",
      "which command-line arguments are meant for it,\n",
      "and which are meant for the program it's running.\n",
      "To make our meaning clear,\n",
      "we have to use `--` (a double dash)\n",
      "to separate the two:"
     ]
    },
    {
     "cell_type": "code",
     "collapsed": false,
     "input": [
      "!ipython code/readings-06.py -- --mean < data/small-01.csv"
     ],
     "language": "python",
     "metadata": {
      "cell_tags": []
     },
     "outputs": [
      {
       "output_type": "stream",
       "stream": "stdout",
       "text": [
        "0.333333333333\r\n",
        "1.0\r\n"
       ]
      }
     ],
     "prompt_number": 51
    },
    {
     "cell_type": "markdown",
     "metadata": {
      "cell_tags": []
     },
     "source": [
      "That's better.\n",
      "In fact,\n",
      "that's done:\n",
      "the program now does everything we set out to do."
     ]
    },
    {
     "cell_type": "markdown",
     "metadata": {},
     "source": [
      "Note that the basic python interpreter (as opposed to ipython) doesn't have this problem:"
     ]
    },
    {
     "cell_type": "code",
     "collapsed": false,
     "input": [
      "!python code/readings-06.py --mean < data/small-01.csv"
     ],
     "language": "python",
     "metadata": {},
     "outputs": [
      {
       "output_type": "stream",
       "stream": "stdout",
       "text": [
        "0.333333333333\r\n",
        "1.0\r\n"
       ]
      }
     ],
     "prompt_number": 24
    },
    {
     "cell_type": "markdown",
     "metadata": {
      "cell_tags": [
       "challenges"
      ]
     },
     "source": [
      "#### Challenges\n",
      "\n",
      "1.  Write a program called `line-count.py` that works like the Unix `wc` command:\n",
      "    *   If no filenames are given, it reports the number of lines in standard input.\n",
      "    *   If one or more filenames are given, it reports the number of lines in each, followed by the total number of lines."
     ]
    },
    {
     "cell_type": "markdown",
     "metadata": {
      "cell_tags": [
       "keypoints"
      ]
     },
     "source": [
      "#### Key Points\n",
      "\n",
      "*   The `sys` library connects a Python program to the system it is running on.\n",
      "*   The list `sys.argv` contains the command-line arguments that a program was run with.\n",
      "*   Avoid silent failures.\n",
      "*   The \"file\" `sys.stdin` connects to a program's standard input.\n",
      "*   The \"file\" `sys.stdout` connects to a program's standard output."
     ]
    }
   ],
   "metadata": {}
  }
 ]
}